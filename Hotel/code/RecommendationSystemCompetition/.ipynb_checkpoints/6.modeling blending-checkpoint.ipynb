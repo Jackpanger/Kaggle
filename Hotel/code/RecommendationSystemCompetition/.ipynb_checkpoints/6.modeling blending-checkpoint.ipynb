{
 "cells": [
  {
   "cell_type": "markdown",
   "metadata": {},
   "source": [
    "## 模型融合"
   ]
  },
  {
   "cell_type": "code",
   "execution_count": null,
   "metadata": {
    "collapsed": true
   },
   "outputs": [],
   "source": [
    "# -*- coding: utf-8 -*-\n",
    "\n",
    "import pandas as pd\n",
    "import numpy as np\n",
    "from sklearn.preprocessing import normalize\n",
    "import h5py\n",
    "import os\n",
    "\n",
    "submission = pd.read_csv('../input/sample_submission.csv')\n",
    "\n",
    "# read in RF results\n",
    "with h5py.File('./output/probs/allpreds.h5', 'r') as hf:\n",
    "        predshf = hf['preds_latest']\n",
    "        preds = 0.31*normalize(predshf.value, norm='l1', axis=1)\n",
    "\n",
    "# read in XGB results\n",
    "with h5py.File('./output/probs/allpreds_xgb.h5', 'r') as hf:\n",
    "        predshf = hf['preds']\n",
    "        preds += 0.39*normalize(predshf.value, norm='l1', axis=1)\n",
    "\n",
    "# read in SGD results\n",
    "with h5py.File('./output/probs/allpreds_sgd.h5', 'r') as hf:\n",
    "        predshf = hf['preds']\n",
    "        preds += 0.27*normalize(predshf.value, norm='l1', axis=1)\n",
    "\n",
    "# read in Bernoulli NB results\n",
    "with h5py.File('./output/probs/allpreds_bnb.h5', 'r') as hf:\n",
    "        predshf = hf['preds']\n",
    "        preds += 0.03*normalize(predshf.value, norm='l1', axis=1)\n",
    "\n",
    "print('generating submission')\n",
    "col_ind = np.argsort(-preds, axis=1)[:,:5]\n",
    "hc = [' '.join(row.astype(str)) for row in col_ind]\n",
    "\n",
    "sub = pd.DataFrame(data=hc, index=submission.id)\n",
    "sub.reset_index(inplace=True)\n",
    "sub.columns = submission.columns\n",
    "sub.to_csv('./output/pred_sub.csv', index=False)"
   ]
  },
  {
   "cell_type": "markdown",
   "metadata": {},
   "source": [
    "## 提交结果格式处理"
   ]
  },
  {
   "cell_type": "code",
   "execution_count": null,
   "metadata": {},
   "outputs": [],
   "source": [
    "match_pred = pd.read_csv('./output/match_pred.csv')\n",
    "match_pred.fillna('', inplace=True)\n",
    "match_pred = match_pred['hotel_cluster'].tolist()\n",
    "match_pred = [s.split(' ') for s in match_pred]\n",
    "\n",
    "pred_sub = pd.read_csv('./output/pred_sub.csv')\n",
    "ids = pred_sub.id\n",
    "pred_sub = pred_sub['hotel_cluster'].tolist()\n",
    "pred_sub = [s.split(' ') for s in pred_sub]\n",
    "\n",
    "# 取出前5\n",
    "def f5(seq, idfun=None): \n",
    "    if idfun is None:\n",
    "        def idfun(x): return x\n",
    "    seen = {}\n",
    "    result = []\n",
    "    for item in seq:\n",
    "        marker = idfun(item)\n",
    "        if (marker in seen) or (marker == ''): continue\n",
    "        seen[marker] = 1\n",
    "        result.append(item)\n",
    "    return result\n",
    "    \n",
    "full_preds = [f5(match_pred[p] + pred_sub[p])[:5] for p in range(len(pred_sub))]\n",
    "\n",
    "write_p = [\" \".join([str(l) for l in p]) for p in full_preds]\n",
    "write_frame = [\"{0},{1}\".format(ids[i], write_p[i]) for i in range(len(full_preds))]\n",
    "write_frame = [\"id,hotel_cluster\"] + write_frame\n",
    "with open(\"./output/predictions.csv\", \"w+\") as f:\n",
    "    f.write(\"\\n\".join(write_frame))"
   ]
  }
 ],
 "metadata": {
  "kernelspec": {
   "display_name": "Python 3",
   "language": "python",
   "name": "python3"
  },
  "language_info": {
   "codemirror_mode": {
    "name": "ipython",
    "version": 3
   },
   "file_extension": ".py",
   "mimetype": "text/x-python",
   "name": "python",
   "nbconvert_exporter": "python",
   "pygments_lexer": "ipython3",
   "version": "3.7.3"
  }
 },
 "nbformat": 4,
 "nbformat_minor": 2
}
